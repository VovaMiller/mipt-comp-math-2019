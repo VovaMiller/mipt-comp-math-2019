{
 "cells": [
  {
   "cell_type": "markdown",
   "metadata": {},
   "source": [
    "# 2.2 Метод Гаусса с выбором главного элемента по строке"
   ]
  },
  {
   "cell_type": "markdown",
   "metadata": {},
   "source": [
    "Миллер Владимир (696а)"
   ]
  },
  {
   "cell_type": "code",
   "execution_count": 4,
   "metadata": {},
   "outputs": [],
   "source": [
    "import numpy as np\n",
    "\n",
    "N = 2"
   ]
  },
  {
   "cell_type": "code",
   "execution_count": 2,
   "metadata": {},
   "outputs": [],
   "source": [
    "def solve(A, b):\n",
    "    \"\"\" \n",
    "    Решает систему Ax=b методом Гаусса с выбором главного элемента по строке.\n",
    "    Возвращает матрицы и вектор решения: L, U, Q, x\n",
    "    AQ=LU\n",
    "    \"\"\"\n",
    "    n = A.shape[0]\n",
    "    \n",
    "    # Вычисление матриц L, U, Q.\n",
    "    U = np.copy(A)\n",
    "    L = np.eye(n)\n",
    "    Q = np.eye(n, dtype=int)\n",
    "    for k in range(n - 1):\n",
    "        i = k + np.argmax(np.abs(U[k, k:n]))\n",
    "        U[:, k], U[:, i] = U[:, i], U[:, k].copy()\n",
    "        Q[:, k], Q[:, i] = Q[:, i], Q[:, k].copy()\n",
    "        for j in range(k + 1, n):\n",
    "            L[j, k] =  U[j, k] / U[k, k]\n",
    "            U[j, k:n] = U[j, k:n] - L[j, k] * U[k, k:n]\n",
    "    \n",
    "    # Решение системы Lz=b (прямая подстановка).\n",
    "    z = np.zeros(n)\n",
    "    for i in range(n):\n",
    "        z[i] = b[i]\n",
    "        for j in range(i):\n",
    "            z[i] -= L[i, j] * z[j]\n",
    "            \n",
    "    # Решение системы Uy=z (обратная подстановка).\n",
    "    y = np.zeros(n)\n",
    "    for i in reversed(range(n)):\n",
    "        y[i] = z[i]\n",
    "        for j in range(i + 1, n):\n",
    "            y[i] -= U[i, j] * y[j]\n",
    "        y[i] /= U[i, i]\n",
    "        \n",
    "    # Финальное решение (x=Qy).\n",
    "    x = np.zeros(n)\n",
    "    for i in range(n):\n",
    "        for j in range(n):\n",
    "            if Q[i, j] == 1:\n",
    "                x[i] = y[j]\n",
    "    \n",
    "    return L, U, Q, x"
   ]
  },
  {
   "cell_type": "code",
   "execution_count": 5,
   "metadata": {},
   "outputs": [
    {
     "name": "stdout",
     "output_type": "stream",
     "text": [
      "5.551115123125783e-17\n"
     ]
    }
   ],
   "source": [
    "A = np.random.rand(N, N)\n",
    "b = np.random.rand(N)\n",
    "\n",
    "x_lib = np.linalg.solve(A, b)\n",
    "L, U, Q, x = solve(A, b)\n",
    "\n",
    "print(np.linalg.norm(x_lib - x))"
   ]
  },
  {
   "cell_type": "code",
   "execution_count": 6,
   "metadata": {},
   "outputs": [
    {
     "data": {
      "text/plain": [
       "array([[0.26561928, 0.46603656],\n",
       "       [0.75637236, 0.05779312]])"
      ]
     },
     "execution_count": 6,
     "metadata": {},
     "output_type": "execute_result"
    }
   ],
   "source": [
    "A"
   ]
  },
  {
   "cell_type": "code",
   "execution_count": 7,
   "metadata": {},
   "outputs": [
    {
     "data": {
      "text/plain": [
       "array([0.29356195, 0.56698188])"
      ]
     },
     "execution_count": 7,
     "metadata": {},
     "output_type": "execute_result"
    }
   ],
   "source": [
    "b"
   ]
  },
  {
   "cell_type": "code",
   "execution_count": 8,
   "metadata": {},
   "outputs": [
    {
     "data": {
      "text/plain": [
       "array([0.73341601, 0.21189865])"
      ]
     },
     "execution_count": 8,
     "metadata": {},
     "output_type": "execute_result"
    }
   ],
   "source": [
    "x_lib"
   ]
  },
  {
   "cell_type": "code",
   "execution_count": 9,
   "metadata": {},
   "outputs": [
    {
     "data": {
      "text/plain": [
       "array([0.73341601, 0.21189865])"
      ]
     },
     "execution_count": 9,
     "metadata": {},
     "output_type": "execute_result"
    }
   ],
   "source": [
    "x"
   ]
  },
  {
   "cell_type": "code",
   "execution_count": 18,
   "metadata": {},
   "outputs": [
    {
     "name": "stdout",
     "output_type": "stream",
     "text": [
      "5.721958498152797e-17\n"
     ]
    }
   ],
   "source": [
    "A = np.eye(2)\n",
    "A[0, 1] = np.random.uniform(low=-2, high=2, size=(1,))\n",
    "A[1, 0] = np.random.uniform(low=0, high=4, size=(1,))\n",
    "b = np.random.rand(N)\n",
    "\n",
    "x_lib = np.linalg.solve(A, b)\n",
    "L, U, Q, x = solve(A, b)\n",
    "\n",
    "print(np.linalg.norm(x_lib - x))"
   ]
  },
  {
   "cell_type": "code",
   "execution_count": 19,
   "metadata": {},
   "outputs": [
    {
     "data": {
      "text/plain": [
       "array([[ 1.        , -0.61485293],\n",
       "       [ 3.59567492,  1.        ]])"
      ]
     },
     "execution_count": 19,
     "metadata": {},
     "output_type": "execute_result"
    }
   ],
   "source": [
    "A"
   ]
  },
  {
   "cell_type": "code",
   "execution_count": 20,
   "metadata": {},
   "outputs": [
    {
     "data": {
      "text/plain": [
       "array([0.35116953, 0.03587334])"
      ]
     },
     "execution_count": 20,
     "metadata": {},
     "output_type": "execute_result"
    }
   ],
   "source": [
    "b"
   ]
  },
  {
   "cell_type": "code",
   "execution_count": 21,
   "metadata": {},
   "outputs": [
    {
     "data": {
      "text/plain": [
       "array([ 0.11624052, -0.38208977])"
      ]
     },
     "execution_count": 21,
     "metadata": {},
     "output_type": "execute_result"
    }
   ],
   "source": [
    "x_lib"
   ]
  },
  {
   "cell_type": "code",
   "execution_count": 22,
   "metadata": {},
   "outputs": [
    {
     "data": {
      "text/plain": [
       "array([ 0.11624052, -0.38208977])"
      ]
     },
     "execution_count": 22,
     "metadata": {},
     "output_type": "execute_result"
    }
   ],
   "source": [
    "x"
   ]
  },
  {
   "cell_type": "code",
   "execution_count": null,
   "metadata": {},
   "outputs": [],
   "source": []
  }
 ],
 "metadata": {
  "kernelspec": {
   "display_name": "Python 3",
   "language": "python",
   "name": "python3"
  },
  "language_info": {
   "codemirror_mode": {
    "name": "ipython",
    "version": 3
   },
   "file_extension": ".py",
   "mimetype": "text/x-python",
   "name": "python",
   "nbconvert_exporter": "python",
   "pygments_lexer": "ipython3",
   "version": "3.7.3"
  }
 },
 "nbformat": 4,
 "nbformat_minor": 2
}
