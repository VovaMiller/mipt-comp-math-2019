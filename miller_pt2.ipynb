{
 "cells": [
  {
   "cell_type": "markdown",
   "metadata": {},
   "source": [
    "# 3.3 Симметричный метод Зейделя"
   ]
  },
  {
   "cell_type": "markdown",
   "metadata": {},
   "source": [
    "Миллер Владимир (696а)"
   ]
  },
  {
   "cell_type": "code",
   "execution_count": 23,
   "metadata": {},
   "outputs": [],
   "source": [
    "%matplotlib inline\n",
    "import numpy as np\n",
    "from scipy import linalg\n",
    "from matplotlib import pyplot as plt\n",
    "from sklearn.datasets import make_spd_matrix\n",
    "\n",
    "N = 2\n",
    "ITER_MAX = 100000\n",
    "TOL = 1e-6"
   ]
  },
  {
   "cell_type": "code",
   "execution_count": 24,
   "metadata": {},
   "outputs": [],
   "source": [
    "def solve(A, b, iter_max, tol):\n",
    "    \"\"\" Решение системы Ax=b симметричным метод Зейделя \"\"\"\n",
    "    xkp1 = np.zeros(N)  # начальное приближение\n",
    "    xk = np.zeros(N)\n",
    "    residuals = []  # массив со значениями невязки\n",
    "    residual = np.linalg.norm(A @ xkp1 - b)\n",
    "    for k in range(iter_max):\n",
    "        if residual < tol:\n",
    "            break\n",
    "        xk = np.copy(xkp1)\n",
    "        if (k % 2) == 0:  # A = (L+D)+U\n",
    "            for i in range(N):\n",
    "                xkp1[i] = b[i]\n",
    "                for j in range(i):  # матрица L\n",
    "                    xkp1[i] = xkp1[i] - A[i][j] * xkp1[j]\n",
    "                for j in range(i + 1, N):  # матрица U\n",
    "                    xkp1[i] = xkp1[i] - A[i][j] * xk[j]\n",
    "                xkp1[i] = xkp1[i] / A[i][i]\n",
    "        else:  # A = L+(D+U)\n",
    "            for i in reversed(range(N)):\n",
    "                xkp1[i] = b[i]\n",
    "                for j in range(i + 1, N):  # матрица U\n",
    "                    xkp1[i] = xkp1[i] - A[i][j] * xkp1[j]\n",
    "                for j in range(i):  # матрица L\n",
    "                    xkp1[i] = xkp1[i] - A[i][j] * xk[j]\n",
    "                xkp1[i] = xkp1[i] / A[i][i]   \n",
    "        residual = np.linalg.norm(A @ xkp1 - b)\n",
    "        residuals.append(residual)\n",
    "    return xkp1, residuals"
   ]
  },
  {
   "cell_type": "code",
   "execution_count": 12,
   "metadata": {},
   "outputs": [],
   "source": [
    "A = make_spd_matrix(N)  # симметричная положительно определённая \n",
    "b = np.random.rand(N)\n",
    "\n",
    "x_ex = np.linalg.solve(A, b)  # точное решение\n",
    "# print(A @ x_ex - b)"
   ]
  },
  {
   "cell_type": "code",
   "execution_count": 25,
   "metadata": {},
   "outputs": [],
   "source": [
    "# Test\n",
    "A = np.array([[4, -2], [-2, 5]])\n",
    "b = np.array([-6, 5])\n",
    "\n",
    "x_ex = np.linalg.solve(A, b)"
   ]
  },
  {
   "cell_type": "code",
   "execution_count": 26,
   "metadata": {},
   "outputs": [],
   "source": [
    "x_it, rs = solve(A, b, ITER_MAX, TOL)"
   ]
  },
  {
   "cell_type": "code",
   "execution_count": 27,
   "metadata": {},
   "outputs": [
    {
     "name": "stdout",
     "output_type": "stream",
     "text": [
      "Iterations: 19\n",
      "Error: 1.378602189859565e-07\n"
     ]
    },
    {
     "data": {
      "image/png": "[encoded data removed]",
      "text/plain": [
       "<Figure size 720x360 with 1 Axes>"
      ]
     },
     "metadata": {
      "needs_background": "light"
     },
     "output_type": "display_data"
    }
   ],
   "source": [
    "print(\"Iterations:\", len(rs))\n",
    "print(\"Error:\", np.linalg.norm(x_ex - x_it))\n",
    "\n",
    "fig, ax = plt.subplots(figsize = (10, 5))\n",
    "ax.semilogy(rs)\n",
    "ax.grid(True)"
   ]
  },
  {
   "cell_type": "code",
   "execution_count": 28,
   "metadata": {},
   "outputs": [
    {
     "data": {
      "text/plain": [
       "array([-1.25,  0.5 ])"
      ]
     },
     "execution_count": 28,
     "metadata": {},
     "output_type": "execute_result"
    }
   ],
   "source": [
    "x_ex"
   ]
  },
  {
   "cell_type": "code",
   "execution_count": 29,
   "metadata": {},
   "outputs": [
    {
     "data": {
      "text/plain": [
       "array([-1.25000013,  0.49999995])"
      ]
     },
     "execution_count": 29,
     "metadata": {},
     "output_type": "execute_result"
    }
   ],
   "source": [
    "x_it"
   ]
  },
  {
   "cell_type": "code",
   "execution_count": null,
   "metadata": {},
   "outputs": [],
   "source": []
  }
 ],
 "metadata": {
  "kernelspec": {
   "display_name": "Python 3",
   "language": "python",
   "name": "python3"
  },
  "language_info": {
   "codemirror_mode": {
    "name": "ipython",
    "version": 3
   },
   "file_extension": ".py",
   "mimetype": "text/x-python",
   "name": "python",
   "nbconvert_exporter": "python",
   "pygments_lexer": "ipython3",
   "version": "3.7.3"
  }
 },
 "nbformat": 4,
 "nbformat_minor": 2
}
